{
 "cells": [
  {
   "cell_type": "code",
   "execution_count": 1,
   "metadata": {},
   "outputs": [],
   "source": [
    "from selenium import webdriver\n",
    "from selenium.webdriver.common.keys import Keys\n",
    "from random import randint\n",
    "from time import sleep\n",
    "import csv"
   ]
  },
  {
   "cell_type": "code",
   "execution_count": 2,
   "metadata": {},
   "outputs": [],
   "source": [
    "browser = webdriver.Chrome('C:/Users/hgera/Downloads/Compressed/chromedriver_win32/chromedriver')"
   ]
  },
  {
   "cell_type": "code",
   "execution_count": 5,
   "metadata": {},
   "outputs": [],
   "source": [
    "urls = []\n",
    "ID = []\n",
    "infra = []\n",
    "\n",
    "with open('URLKantor.csv') as csv_file:\n",
    "    csv_reader = csv.reader(csv_file, delimiter=';')\n",
    "    for row in csv_reader:\n",
    "        urls.append(row[1])\n",
    "        ID.append(row[0])\n",
    "\n",
    "with open('infrastruktur.csv') as oj:\n",
    "    oj_reader = csv.reader(oj,delimiter=',')\n",
    "    for row in oj_reader:\n",
    "        infra.append(row[0])"
   ]
  },
  {
   "cell_type": "code",
   "execution_count": 3,
   "metadata": {
    "scrolled": true
   },
   "outputs": [],
   "source": [
    "def scrap(URL,ID):\n",
    "    for j in range(len(infra)):\n",
    "        try:  \n",
    "            browser.get(URL)\n",
    "            sleep(randint(5,12))\n",
    "            elem = browser.find_element_by_xpath('//button[@data-value=\"Di Sekitar\"]')\n",
    "            elem2 = browser.find_element_by_xpath('//input[@id=\"searchboxinput\"]')\n",
    "            elem.click()\n",
    "            sleep(randint(2,6))\n",
    "            elem2.send_keys(infra[j])\n",
    "            elem2.send_keys(Keys.RETURN)\n",
    "            sleep(randint(1,5))\n",
    "            urlInfra = browser.current_url\n",
    "            print(infra[j] + \" ditemukan\")\n",
    "            with open ('daftarUrlInfra.csv', 'a') as f:\n",
    "                f.write(ID + \";\" + infra[j] + \";\" + urlInfra + \"\\n\")\n",
    "        except:\n",
    "            urlInfra = browser.current_url\n",
    "            with open ('daftarUrlInfra_SALAH.csv', 'a') as f:\n",
    "                f.write(ID + \";\" + infra[j] + \";\" + urlInfra + \"\\n\")\n",
    "            print(infra[j] + \" tidak ditemukan\")\n",
    "        sleep(randint(5,20))"
   ]
  },
  {
   "cell_type": "code",
   "execution_count": null,
   "metadata": {},
   "outputs": [
    {
     "name": "stdout",
     "output_type": "stream",
     "text": [
      "PAUDditemukan\n",
      "TKditemukan\n",
      "SDditemukan\n",
      "madrasah ibtidaiyahtidak ditemukan\n"
     ]
    }
   ],
   "source": [
    "for i in range(0,2):\n",
    "    scrap(urls[i],ID[i])"
   ]
  },
  {
   "cell_type": "code",
   "execution_count": null,
   "metadata": {},
   "outputs": [],
   "source": [
    "browser.close()"
   ]
  }
 ],
 "metadata": {
  "kernelspec": {
   "display_name": "Python 3",
   "language": "python",
   "name": "python3"
  },
  "language_info": {
   "codemirror_mode": {
    "name": "ipython",
    "version": 3
   },
   "file_extension": ".py",
   "mimetype": "text/x-python",
   "name": "python",
   "nbconvert_exporter": "python",
   "pygments_lexer": "ipython3",
   "version": "3.7.4"
  }
 },
 "nbformat": 4,
 "nbformat_minor": 2
}
