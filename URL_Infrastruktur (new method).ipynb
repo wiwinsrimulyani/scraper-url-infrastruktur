{
 "cells": [
  {
   "cell_type": "code",
   "execution_count": 38,
   "metadata": {},
   "outputs": [],
   "source": [
    "from selenium import webdriver\n",
    "from selenium.webdriver.common.keys import Keys\n",
    "from random import randint\n",
    "from time import sleep\n",
    "import csv"
   ]
  },
  {
   "cell_type": "code",
   "execution_count": 40,
   "metadata": {},
   "outputs": [],
   "source": [
    "urls = []\n",
    "ID = []\n",
    "infra = []\n",
    "\n",
    "with open('URLKantor.csv') as csv_file:\n",
    "    csv_reader = csv.reader(csv_file, delimiter=';')\n",
    "    for row in csv_reader:\n",
    "        urls.append(row[1])\n",
    "        ID.append(row[0])\n",
    "\n",
    "with open('infrastruktur2.csv') as oj:\n",
    "    oj_reader = csv.reader(oj,delimiter=',')\n",
    "    for row in oj_reader:\n",
    "        infra.append(row[0])"
   ]
  },
  {
   "cell_type": "code",
   "execution_count": 36,
   "metadata": {},
   "outputs": [],
   "source": [
    "def scrap2(URL,ID,browser):\n",
    "    browser.get(URL)\n",
    "    sleep(randint(6,8))\n",
    "    elem = browser.find_element_by_xpath('//button[@data-value=\"Di Sekitar\"]')\n",
    "    elem2 = browser.find_element_by_xpath('//input[@id=\"searchboxinput\"]')\n",
    "    elem.click()\n",
    "    sleep(randint(4,6))\n",
    "    elem2.send_keys(infra[0])\n",
    "    elem2.send_keys(Keys.RETURN)\n",
    "    sleep(randint(7,9))\n",
    "    urlInfra = browser.current_url\n",
    "    with open ('daftarUrlInfra_newmetod.csv', 'a') as f:\n",
    "        f.write(ID + \";\" + infra[0] + \";\" + urlInfra + \"\\n\")  \n",
    "        for j in range(1,len(infra)):\n",
    "            f.write(ID + \";\" + infra[j] + \";\" + urlInfra.replace(infra[0],infra[j].replace(' ','+')) + \"\\n\")"
   ]
  },
  {
   "cell_type": "code",
   "execution_count": 7,
   "metadata": {},
   "outputs": [],
   "source": [
    "browser = webdriver.Chrome('D:/PKL/driver/chromedriver')"
   ]
  },
  {
   "cell_type": "code",
   "execution_count": 43,
   "metadata": {},
   "outputs": [
    {
     "name": "stdout",
     "output_type": "stream",
     "text": [
      "-----------------__ 209 __---------------\n"
     ]
    }
   ],
   "source": [
    "for i in range(209,210):\n",
    "    print(\"-------- Desa ke -\"+str(i)+ \" --------\")\n",
    "    scrap2(urls[i],ID[i],browser)"
   ]
  }
 ],
 "metadata": {
  "kernelspec": {
   "display_name": "Python 3",
   "language": "python",
   "name": "python3"
  },
  "language_info": {
   "codemirror_mode": {
    "name": "ipython",
    "version": 3
   },
   "file_extension": ".py",
   "mimetype": "text/x-python",
   "name": "python",
   "nbconvert_exporter": "python",
   "pygments_lexer": "ipython3",
   "version": "3.7.4"
  }
 },
 "nbformat": 4,
 "nbformat_minor": 2
}
