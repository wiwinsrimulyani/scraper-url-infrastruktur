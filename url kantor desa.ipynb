{
 "cells": [
  {
   "cell_type": "code",
   "execution_count": 2,
   "metadata": {},
   "outputs": [],
   "source": [
    "from selenium.webdriver import Chrome\n",
    "from selenium.webdriver.common.keys import Keys\n",
    "import time\n",
    "import csv"
   ]
  },
  {
   "cell_type": "code",
   "execution_count": 3,
   "metadata": {},
   "outputs": [],
   "source": [
    "webdriver = \"C:/Users/hgera/Downloads/Compressed/chromedriver_win32/chromedriver\"\n",
    "driver = Chrome(webdriver)"
   ]
  },
  {
   "cell_type": "code",
   "execution_count": 4,
   "metadata": {},
   "outputs": [],
   "source": [
    "desa = []\n",
    "ID = []\n",
    "\n",
    "with open('daftarkodedesa.csv') as csv_file:\n",
    "    csv_reader = csv.reader(csv_file, delimiter=';')\n",
    "    for row in csv_reader:\n",
    "        desa.append(row[5])\n",
    "        ID.append(row[3])"
   ]
  },
  {
   "cell_type": "code",
   "execution_count": 5,
   "metadata": {},
   "outputs": [],
   "source": [
    "def url_kantor(desa,ID):\n",
    "    jenis = [\"kantor+desa+\",\"balai+desa+\",\"kantor+kepala+desa+\"]\n",
    "    url = 'https://www.google.com/maps/search/'\n",
    "    j = 0\n",
    "    while j < len(jenis):\n",
    "        driver.get(url+jenis[j]+desa)\n",
    "        time.sleep((i%5)+5)\n",
    "        link = driver.current_url\n",
    "        if \"place\" in link and (\"Kantor\" in link or \"KANTOR\" in link or \"Balai\" in link or \"BALAI\" in link):\n",
    "            with open ('URLKantor.csv', 'a', encoding=\"utf-8\") as f:\n",
    "                f.write(ID + ';' + link + '\\n')\n",
    "            print(desa + \" ditemukan\")\n",
    "            break\n",
    "        j += 1\n",
    "    if j == len(jenis):\n",
    "        print(desa + \" tidak ditemukan\")\n",
    "        with open ('URLKantor_salah.csv', 'a', encoding=\"utf-8\") as s:\n",
    "            s.write(ID + ';' + link + '\\n')"
   ]
  },
  {
   "cell_type": "code",
   "execution_count": 6,
   "metadata": {},
   "outputs": [
    {
     "name": "stdout",
     "output_type": "stream",
     "text": [
      "srimulyo+piyungan ditemukan\n"
     ]
    }
   ],
   "source": [
    "for i in range(1,393):\n",
    "    url_kantor(desa[i],ID[i])"
   ]
  },
  {
   "cell_type": "code",
   "execution_count": 10,
   "metadata": {},
   "outputs": [],
   "source": [
    "driver.close()"
   ]
  },
  {
   "cell_type": "code",
   "execution_count": null,
   "metadata": {},
   "outputs": [],
   "source": []
  }
 ],
 "metadata": {
  "kernelspec": {
   "display_name": "Python 3",
   "language": "python",
   "name": "python3"
  },
  "language_info": {
   "codemirror_mode": {
    "name": "ipython",
    "version": 3
   },
   "file_extension": ".py",
   "mimetype": "text/x-python",
   "name": "python",
   "nbconvert_exporter": "python",
   "pygments_lexer": "ipython3",
   "version": "3.7.4"
  }
 },
 "nbformat": 4,
 "nbformat_minor": 2
}
